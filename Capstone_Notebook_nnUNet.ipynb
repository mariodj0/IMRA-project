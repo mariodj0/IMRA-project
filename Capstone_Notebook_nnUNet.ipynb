{
  "nbformat": 4,
  "nbformat_minor": 0,
  "metadata": {
    "colab": {
      "provenance": []
    },
    "kernelspec": {
      "name": "python3",
      "display_name": "Python 3"
    },
    "language_info": {
      "name": "python"
    }
  },
  "cells": [
    {
      "cell_type": "markdown",
      "source": [
        "# Hey There!\n",
        "Please find this notebook as a tool to further train your a 3D-UNet model, and to make inferences on the KiTS-2023 dataset.\n",
        "\n",
        "We'll detail the steps as we go through! If there's something we missed or you need a little extra assistance, please use the following link to send you to the nn-UNet official repository: https://github.com/MIC-DKFZ/nnUNet.\n",
        "\n",
        "If you simply would like to make inferences using the model we have built (it can be improved with time and computational resources), simply skip to the \"Making Inferences\" section, after running the code up to and including the \"Set Environment Parameters\" section.\n",
        "\n",
        "If else, please follow through all the way to further train the model from scratch which will serve you greater.\n",
        "\n",
        "Wishing you the best! Thank you once again for the incredible opportunity.\n",
        "\n",
        "RMIT Team:\n",
        "- Frederick Amad\n",
        "- Zekiye Yildirim\n",
        "- Aleisha Dillion\n",
        "- Ei Thiri Lwin\n",
        "- Mario Djameh"
      ],
      "metadata": {
        "id": "gJHAOLFBO_52"
      }
    },
    {
      "cell_type": "markdown",
      "source": [
        "# Pip Install Dependencies\n",
        "Unfortunately because we're using a Google Virtual Machine, the enviornment resets specific libraries, so you'll have to run the following block to pip install the necessary libraries."
      ],
      "metadata": {
        "id": "j02KBPrbfKI4"
      }
    },
    {
      "cell_type": "code",
      "source": [
        "# Bachgenerators is a library dependency for nnUNet\n",
        "!pip3 install batchgenerators\n",
        "\n",
        "# The crux of the model training and inferrence machine\n",
        "!pip3 install nnunetv2\n",
        "\n",
        "# If you would like to output the neural network architecture, you'll need\n",
        "# to pip install the following\n",
        "!pip3 install --upgrade git+https://github.com/FabianIsensee/hiddenlayer.git\n",
        "\n",
        "# !NOTE: It may ask to restart the 'run-time connection', you can ignore this!"
      ],
      "metadata": {
        "id": "66eCees6nB5t"
      },
      "execution_count": null,
      "outputs": []
    },
    {
      "cell_type": "markdown",
      "source": [
        "# Import Libraries\n",
        "\n",
        "Import the necessary libraries to make the magic happen."
      ],
      "metadata": {
        "id": "58Jl-OpDfO9d"
      }
    },
    {
      "cell_type": "code",
      "source": [
        "\"\"\"\n",
        "Import 'drive' to connect to your google drive which\n",
        "allows for a place  to clone the required repositories.\n",
        "\"\"\"\n",
        "from google.colab import drive\n",
        "\n",
        "# import nnunetv2\n",
        "# import batchgenerators\n",
        "\n",
        "import torch\n",
        "\n",
        "\"\"\"\n",
        "Un-comment the following if you have chosen to\n",
        "output the neural network architecture.\n",
        "\"\"\"\n",
        "# import hiddenlayer\n",
        "\n",
        "import os\n",
        "import nibabel as nib\n",
        "import numpy as np\n",
        "import matplotlib.pyplot as plt"
      ],
      "metadata": {
        "id": "JFk2HyNwgdLU"
      },
      "execution_count": null,
      "outputs": []
    },
    {
      "cell_type": "markdown",
      "source": [
        "## Establish whether you're connected to a GPU."
      ],
      "metadata": {
        "id": "0d9Cm0AkS2Pa"
      }
    },
    {
      "cell_type": "code",
      "source": [
        "torch.cuda.is_available()"
      ],
      "metadata": {
        "colab": {
          "base_uri": "https://localhost:8080/"
        },
        "id": "jlNBYEGWM3_U",
        "outputId": "27d96327-6c79-441d-d831-4a871250a98e"
      },
      "execution_count": null,
      "outputs": [
        {
          "output_type": "execute_result",
          "data": {
            "text/plain": [
              "False"
            ]
          },
          "metadata": {},
          "execution_count": 6
        }
      ]
    },
    {
      "cell_type": "code",
      "source": [
        "!nvidia-smi"
      ],
      "metadata": {
        "colab": {
          "base_uri": "https://localhost:8080/"
        },
        "id": "R6m4GuhlNCzB",
        "outputId": "9933bfcd-c9da-4202-b1a4-8e3909d7ecf2"
      },
      "execution_count": null,
      "outputs": [
        {
          "output_type": "stream",
          "name": "stdout",
          "text": [
            "Fri Oct 13 04:31:04 2023       \n",
            "+-----------------------------------------------------------------------------+\n",
            "| NVIDIA-SMI 525.105.17   Driver Version: 525.105.17   CUDA Version: 12.0     |\n",
            "|-------------------------------+----------------------+----------------------+\n",
            "| GPU  Name        Persistence-M| Bus-Id        Disp.A | Volatile Uncorr. ECC |\n",
            "| Fan  Temp  Perf  Pwr:Usage/Cap|         Memory-Usage | GPU-Util  Compute M. |\n",
            "|                               |                      |               MIG M. |\n",
            "|===============================+======================+======================|\n",
            "|   0  Tesla T4            Off  | 00000000:00:04.0 Off |                    0 |\n",
            "| N/A   40C    P8     9W /  70W |      0MiB / 15360MiB |      0%      Default |\n",
            "|                               |                      |                  N/A |\n",
            "+-------------------------------+----------------------+----------------------+\n",
            "                                                                               \n",
            "+-----------------------------------------------------------------------------+\n",
            "| Processes:                                                                  |\n",
            "|  GPU   GI   CI        PID   Type   Process name                  GPU Memory |\n",
            "|        ID   ID                                                   Usage      |\n",
            "|=============================================================================|\n",
            "|  No running processes found                                                 |\n",
            "+-----------------------------------------------------------------------------+\n"
          ]
        }
      ]
    },
    {
      "cell_type": "markdown",
      "source": [
        "## Drive Mount\n",
        "This will mount the Google Drive workspace for further development of the training and to make inferences."
      ],
      "metadata": {
        "id": "TXlL_R6XMKn5"
      }
    },
    {
      "cell_type": "code",
      "source": [
        "drive.mount(\"/content/drive\")"
      ],
      "metadata": {
        "colab": {
          "base_uri": "https://localhost:8080/"
        },
        "id": "SiRNY1yigk98",
        "outputId": "547f088e-b283-4773-c885-79507902d2c5"
      },
      "execution_count": null,
      "outputs": [
        {
          "output_type": "stream",
          "name": "stdout",
          "text": [
            "Drive already mounted at /content/drive; to attempt to forcibly remount, call drive.mount(\"/content/drive\", force_remount=True).\n"
          ]
        }
      ]
    },
    {
      "cell_type": "markdown",
      "source": [
        "# Kits23 Full Dataset\n",
        "The dataset we used for training contains 150 cases due to the limited RAM allowance.\n",
        "\n",
        "Should you want to further the model (which I think you may want to do), please clone the repository below and install the full dataset. The link to this official repository can be found here: https://github.com/neheller/kits23. It contains close to 500 cases. Installation instructions are within the page's readme.md.\n",
        "\n",
        "NOTE: Ensure that you've set your current working directory prior to running the code-block."
      ],
      "metadata": {
        "id": "IPosLniCfFXV"
      }
    },
    {
      "cell_type": "code",
      "source": [
        "os.chdir(\"INPUT YOUR DIRECTORY PATH TO CLONE THE KiTS-23 REPOSITORY FOR FURTHER TRAINING\")"
      ],
      "metadata": {
        "id": "m5cpfr63THF9"
      },
      "execution_count": null,
      "outputs": []
    },
    {
      "cell_type": "code",
      "source": [
        "# !git clone https://github.com/neheller/kits23\n",
        "# os.chdir(\"/content/drive/MyDrive/kits23\")\n",
        "# !pip3 install -e .\n",
        "# !kits23_download_data"
      ],
      "metadata": {
        "id": "KEmNJXpx6Is-"
      },
      "execution_count": null,
      "outputs": []
    },
    {
      "cell_type": "markdown",
      "source": [
        "# Clone our GitHub Repository to Establish Mandatory nn-UNet Directory Structure\n",
        "The nn-UNet framework requires a very specific directory structure. We have already taken the liberty to set this structure up for you. However, you will need to populate it with your data (too large to store on GitHub). If you require a full rundown, you can see the following: https://github.com/MIC-DKFZ/nnUNet/blob/master/documentation/dataset_format.md.\n",
        "\n",
        "There exists a code block below titled \"Automate Directories for KiTS23 in nnUNet Framework\" which will automate the conversion of the dataset into the required format for the nnUNet to work.\n",
        "\n",
        "## A Quick Directory Rundown:\n",
        "- nnUNet_preprocessed:\n",
        "  - A place that stores your preprocessed data\n",
        "- nnUNet_raw --> nnUNet_raw_data:\n",
        "  - A place to store your dataset (i.e. the KiTS-23 dataset).\n",
        "  - Note: You can further expand this to other datasets (e.g. Brain Tumour Segmentation Dataset [BRaTS]).\n",
        "  - Note: Every dataset has a very specific ID, you may notice that the KiTS23 dataset has been allocated ID: 220.\n",
        "\n",
        "  - --> imagesTr (Training Directory):\n",
        "    - Place your training data here.\n",
        "    - Note: The .nii.gz files require the following format:\n",
        "      - case_0000X_0000.nii.gz\n",
        "  - --> imagesTs (Testing Directory):\n",
        "    - A place to store your testing data.\n",
        "    - Note: Same format for training is needed for testing.\n",
        "  - --> labelsTr (Training Label Directory):\n",
        "    - Place to store your associated case labels.\n",
        "    - Note: The .nii.gz files require the following format:\n",
        "      - case_0000X.nii.gz\n",
        "- nnUNet_trained_models:\n",
        "  - The nnUNet framework stores weights and training checkpoints with additional information.\n",
        "  - Note: 1 fold (fold_0) has been initiated. nnUNet allows up to 5 folds per task, allowing for an ensemble of models to make inferences.\n",
        "\n",
        "We have however given you the neural network weights for the first 50 epochs found under:\n",
        "\n",
        "nnUNetFrame:\n",
        "- dataset:\n",
        "  - nnUNet_trained_models:\n",
        "    - Dataset220_KiTS2023:\n",
        "      - nUNetTrainer__nnUNetPlans__3d_fullres:\n",
        "        - fold_0\n",
        "\n",
        "NOTE: If the training weights are not there, please contact us, we will have to send it to you (large file).\n",
        "\n",
        "NOTE: The current dataset.json file has 150 cases as a training number, you can change this manually or allow the automated dataset conversion function to this for you."
      ],
      "metadata": {
        "id": "-EgivilPTytB"
      }
    },
    {
      "cell_type": "code",
      "source": [
        "!git clone https://github.com/Zekiye-Y/capstone-project"
      ],
      "metadata": {
        "colab": {
          "base_uri": "https://localhost:8080/"
        },
        "id": "mqORGB-9UMfU",
        "outputId": "73d69ff3-5e82-4fe9-e9d1-12ecb2024d0f"
      },
      "execution_count": null,
      "outputs": [
        {
          "output_type": "stream",
          "name": "stdout",
          "text": [
            "Cloning into 'capstone-project'...\n",
            "remote: Enumerating objects: 135, done.\u001b[K\n",
            "remote: Counting objects: 100% (135/135), done.\u001b[K\n",
            "remote: Compressing objects: 100% (93/93), done.\u001b[K\n",
            "remote: Total 135 (delta 48), reused 106 (delta 29), pack-reused 0\u001b[K\n",
            "Receiving objects: 100% (135/135), 6.34 MiB | 15.88 MiB/s, done.\n",
            "Resolving deltas: 100% (48/48), done.\n"
          ]
        }
      ]
    },
    {
      "cell_type": "markdown",
      "source": [
        "# Clone the nnUNet Official Repository\n",
        "Here you need to download the official repository to get access to the python scripts. Please see here for further information:\n",
        "https://github.com/MIC-DKFZ/nnUNet/blob/master/documentation/installation_instructions.md."
      ],
      "metadata": {
        "id": "oHY3hSBxag-C"
      }
    },
    {
      "cell_type": "code",
      "source": [
        "\"\"\"Note: You may need to change the directory to where the nnUNetFrame is located.\"\"\"\n",
        "# os.chdir(\"/content/capstone-project/nnUNetFrame\")\n",
        "\n",
        "# !git clone https://github.com/MIC-DKFZ/nnUNet.git\n",
        "# !cd nnUNet\n",
        "# !pip install -e ."
      ],
      "metadata": {
        "id": "Tbh_qDnPagQ6"
      },
      "execution_count": null,
      "outputs": []
    },
    {
      "cell_type": "markdown",
      "source": [
        "# Set Environment Parameters\n",
        "nnUNet requires the setting of specific environment variables.\n",
        "\n",
        "NOTE: You may need to set the directory to each of the following folders:\n",
        "1. nnUNet_raw = nnUNet_raw_data directory\n",
        "2. nnUNet_preprocessed = nnUNet_preprocessed directory\n",
        "3. nnUNet_results = nnUNet_trained_models directory\n",
        "\n",
        "This should be easy to follow since the data structure has already been set up for you.\n",
        "\n",
        "If you're running this outside of Google Colab, please see the following documentation: https://github.com/MIC-DKFZ/nnUNet/blob/master/documentation/set_environment_variables.md."
      ],
      "metadata": {
        "id": "1ttCHp4jfSoW"
      }
    },
    {
      "cell_type": "code",
      "source": [
        "os.environ['nnUNet_raw'] = \"/content/drive/MyDrive/nnUNetFrame/dataset/nnUNet_raw/nnUNet_raw_data\"\n",
        "os.environ['nnUNet_preprocessed'] = \"/content/drive/MyDrive/nnUNetFrame/dataset/nnUNet_preprocessed\"\n",
        "os.environ[\"nnUNet_results\"] = \"/content/drive/MyDrive/nnUNetFrame/dataset/nnUNet_trained_models\""
      ],
      "metadata": {
        "id": "ho4NoutsjT-4"
      },
      "execution_count": null,
      "outputs": []
    },
    {
      "cell_type": "markdown",
      "source": [
        "# Automate Directories for Kits23 in nn-UNet Framework\n",
        "Use the follow code block to convert the official KiTS-23 dataset into the required format nnUNet requires.\n",
        "\n",
        "You can find the required python file by following the directory structure below:\n",
        "\n",
        "nnUNetFrame:\n",
        "- nnUNet\n",
        "  - nnUNetV2\n",
        "    - dataset_conversion\n",
        "      - Dataset220_KiTS2023.py"
      ],
      "metadata": {
        "id": "naH0DwPbfWbW"
      }
    },
    {
      "cell_type": "code",
      "source": [
        "# Note: You may have to change the directory (you're probably sick of me saying this lol)\n",
        "\n",
        "# !python3 \"/content/drive/MyDrive/nnUNetFrame/nnUNet/nnunetv2/dataset_conversion/Dataset220_KiTS2023.py\" \"/content/drive/MyDrive/kits23/dataset\""
      ],
      "metadata": {
        "id": "zk6dWISAjj0d"
      },
      "execution_count": null,
      "outputs": []
    },
    {
      "cell_type": "markdown",
      "source": [
        "# Verify Correct Placement of Files"
      ],
      "metadata": {
        "id": "gl8F7Mn6c4aP"
      }
    },
    {
      "cell_type": "code",
      "source": [
        "train_image_dir = \"/content/drive/MyDrive/nnUNetFrame/dataset/nnUNet_raw/nnUNet_raw_data/Dataset220_KiTS2023/imagesTr\"\n",
        "train_label_dir = \"/content/drive/MyDrive/nnUNetFrame/dataset/nnUNet_raw/nnUNet_raw_data/Dataset220_KiTS2023/labelsTr\"\n",
        "train_files = os.listdir(train_image_dir)\n",
        "label_files = os.listdir(train_label_dir)\n",
        "print(\"train image files:\", len(train_files))\n",
        "print(\"train label files:\", len(label_files))"
      ],
      "metadata": {
        "id": "Cet1LbZYryTs"
      },
      "execution_count": null,
      "outputs": []
    },
    {
      "cell_type": "markdown",
      "source": [
        "# Verify Dataset Integrity + Obtain Dataset Fingerprint + Plan of Execution\n",
        "\n",
        "nnUNet comes with a function to verify that the folder structures has been correctly set up and that the cases have been correctly formatted.\n",
        "\n",
        "Additionally, it will take a 'finger-print' of the dataset that analyses various metrics of the dataset that influences the plans and types of preprocessing required.\n",
        "\n",
        "Please use '-h' after the following commands to get more information on the arguments allowed:\n",
        "\n",
        "- nnUNetv2_plan_and_preprocess\n",
        "- nnUNetv2_extract_fingerprint\n",
        "- nnUNetv2_plan_experiment\n",
        "- nnUNetv2_preprocess\n",
        "\n",
        "Note: You can choose 4 different types of configurations, these include:\n",
        "- 2d\n",
        "- 3d_fullres\n",
        "- 3d_lowres\n",
        "- 3d_cascade_fullres (pairs low-resolution with a high-resolution neural network)\n",
        "\n",
        "If you require more information, please see the following link: https://github.com/MIC-DKFZ/nnUNet/blob/master/documentation/how_to_use_nnunet.md#experiment-planning-and-preprocessing"
      ],
      "metadata": {
        "id": "fGtNseizfq9D"
      }
    },
    {
      "cell_type": "code",
      "source": [
        "os.chdir(\"/content/drive/MyDrive/nnUNetFrame/nnUNet/nnunetv2/experiment_planning\")"
      ],
      "metadata": {
        "id": "GqdRxwT1daiF"
      },
      "execution_count": null,
      "outputs": []
    },
    {
      "cell_type": "code",
      "source": [
        "!nnUNetv2_plan_and_preprocess -d 220 --verify_dataset_integrity"
      ],
      "metadata": {
        "id": "uix7QBW9nxV9"
      },
      "execution_count": null,
      "outputs": []
    },
    {
      "cell_type": "markdown",
      "source": [
        "## If you would like to do this on step level, you can run the following commands in order:"
      ],
      "metadata": {
        "id": "Vjny7AHif4JS"
      }
    },
    {
      "cell_type": "code",
      "source": [
        "# !nnUNetv2_extract_fingerprint -d 220 --verify_dataset_integrity"
      ],
      "metadata": {
        "colab": {
          "base_uri": "https://localhost:8080/"
        },
        "id": "UaNM5IWlW_zg",
        "outputId": "89d1d6bc-d36e-460d-cc47-c2dd40eb3421"
      },
      "execution_count": null,
      "outputs": [
        {
          "output_type": "stream",
          "name": "stdout",
          "text": [
            "Dataset220_KiTS2023\n",
            "Using <class 'nnunetv2.imageio.nibabel_reader_writer.NibabelIOWithReorient'> reader/writer\n",
            "\n",
            "####################\n",
            "verify_dataset_integrity Done. \n",
            "If you didn't see any error messages then your dataset is most likely OK!\n",
            "####################\n",
            "\n"
          ]
        }
      ]
    },
    {
      "cell_type": "code",
      "source": [
        "# !nnUNetv2_plan_experiment -d 220 -c 3d_fullres"
      ],
      "metadata": {
        "id": "_tvEVKEigCgz"
      },
      "execution_count": null,
      "outputs": []
    },
    {
      "cell_type": "code",
      "source": [
        "# !nnUNetv2_preprocess -d 220 -plans_name nnUNetPlans -c 3d_fullres -np 2"
      ],
      "metadata": {
        "colab": {
          "base_uri": "https://localhost:8080/"
        },
        "id": "1HPcMTh6vtkW",
        "outputId": "b242683f-e28e-4e8a-f5df-d820b3c853cc"
      },
      "execution_count": null,
      "outputs": [
        {
          "output_type": "stream",
          "name": "stdout",
          "text": [
            "Preprocessing dataset Dataset220_KiTS2023\n",
            "Configuration: 3d_fullres...\n",
            "100% 489/489 [4:00:24<00:00, 29.50s/it]\n"
          ]
        }
      ]
    },
    {
      "cell_type": "markdown",
      "source": [
        "# Training 3D-Full-Res Model\n",
        "\n",
        "Here we used a 3D Full Resolution model.\n",
        "\n",
        "Please use \"!nnUNetv2_train -h\" to see the allowed arguments.\n",
        "\n",
        "Note that the default number of epochs is 1000!! We tried to reduce this but we were unsuccessful. There's a folder that contains variants, found:\n",
        "\n",
        "nnUNet:\n",
        "- nnUNetv2:\n",
        "  - training:\n",
        "    - nnUNetTrainer:\n",
        "      - variants:\n",
        "        - training_length\n",
        "\n",
        "You may be successful in finding a way to reduce the number of epochs. I (Freddy) suspect that you may have to replace \"nnUNetv2_train\" with one of the python scripts in the file. Tried but was unsuccessful.\n",
        "\n",
        "Further information can be found here: https://github.com/MIC-DKFZ/nnUNet/blob/master/documentation/how_to_use_nnunet.md#model-training.\n",
        "\n",
        "To ensure you're using the GPU for training, please use the following snippet at the start of the command:\n",
        "- CUDA_VISIBLE_DEVICES = 0\n",
        "\n",
        "If you're lucky enough to have multiple GPU's, please see the following documentation: https://github.com/MIC-DKFZ/nnUNet/blob/master/documentation/how_to_use_nnunet.md#using-multiple-gpus-for-training."
      ],
      "metadata": {
        "id": "37L4A8zpCGC-"
      }
    },
    {
      "cell_type": "code",
      "source": [
        "os.chdir(\"/content/drive/MyDrive/nnUNetFrame/nnUNet/nnunetv2/training\")"
      ],
      "metadata": {
        "id": "LMWoGhGzCKmW"
      },
      "execution_count": null,
      "outputs": []
    },
    {
      "cell_type": "code",
      "source": [
        "!nnUNetv2_train -h"
      ],
      "metadata": {
        "id": "ZSx1FnnSENFP"
      },
      "execution_count": null,
      "outputs": []
    },
    {
      "cell_type": "code",
      "source": [
        "!CUDA_VISIBLE_DEVICES=0 nnUNetv2_train 220 3d_fullres 0 -num_gpus 1 -device 'cuda' --npz"
      ],
      "metadata": {
        "id": "QJKK8WFFDnxS"
      },
      "execution_count": null,
      "outputs": []
    },
    {
      "cell_type": "markdown",
      "source": [
        "# Making Inferences\n",
        "\n",
        "Here we make inferences with testing images that have been placed in our 'imagesTs' directory (yes, rememeber that from way up there?).\n",
        "\n",
        "You can use the following command line to find the best configurations which will output a command line to further make inferences:\n",
        "- !nnUNetv2_find_best_configuration\n",
        "\n",
        "However, for this to be successful you will have to have had to train the model for a very very long time (default = 1000 epochs).\n",
        "\n",
        "Instead, you can use the following command line to run inferences on the model you currently have (we had to stop early and use the 'checkpoint_best.pth' as the 'checkpoint_final.pth', found in the 'nnUNet_trained_models --> fold_0 directory):\n",
        "\n",
        "!nnUNetv2_predict -i [input_folder] -o [output_folder] -d [dataset_name_or_id] -c [configuration] --save_probabilities\n",
        "\n",
        "For further information, please see the following link: https://github.com/MIC-DKFZ/nnUNet/blob/master/documentation/how_to_use_nnunet.md#run-prediction.\n"
      ],
      "metadata": {
        "id": "d7twKPpi-n9w"
      }
    },
    {
      "cell_type": "code",
      "source": [
        "os.chdir(os.path.join(\"/content/drive/MyDrive/nnUNetFrame/nnUNet/nnunetv2/inference\"))"
      ],
      "metadata": {
        "id": "qP9k-bcr-q8U"
      },
      "execution_count": null,
      "outputs": []
    },
    {
      "cell_type": "code",
      "source": [
        "!nnUNetv2_predict -h"
      ],
      "metadata": {
        "id": "RF_KTkHSR_8H"
      },
      "execution_count": null,
      "outputs": []
    },
    {
      "cell_type": "code",
      "source": [
        "!nnUNetv2_predict -i \"/content/drive/MyDrive/nnUNetFrame/dataset/nnUNet_raw/nnUNet_raw_data/Dataset220_KiTS2023/imagesTs/\" -o \"/content/drive/MyDrive/nnUNetFrame/dataset/nnUNet_raw/nnUNet_raw_data/Dataset220_KiTS2023/predictions/\" -d 220 -c 3d_fullres -f 0 --save_probabilities"
      ],
      "metadata": {
        "id": "FGyQkq2C-qCA"
      },
      "execution_count": null,
      "outputs": []
    },
    {
      "cell_type": "markdown",
      "source": [
        "# Visualize Predictions\n",
        "\n",
        "Depending on where you directed your 'output_folder' above, you should have .nii.gz files with the predicted segmentations.\n",
        "\n",
        "These can be quickly visualised here.\n",
        "\n",
        "Note: You may not have the case shown below, but the process is the same nonetheless.\n"
      ],
      "metadata": {
        "id": "BYZO1XJkC91B"
      }
    },
    {
      "cell_type": "code",
      "source": [
        "seg_file = nib.load(\"/content/drive/MyDrive/nnUNetFrame/dataset/nnUNet_raw/nnUNet_raw_data/Dataset220_KiTS2023/imagesTs/case_00560_0000.nii.gz\").get_fdata()"
      ],
      "metadata": {
        "id": "UmwCpXxyDAST"
      },
      "execution_count": null,
      "outputs": []
    },
    {
      "cell_type": "code",
      "source": [
        "seg_file.shape"
      ],
      "metadata": {
        "colab": {
          "base_uri": "https://localhost:8080/"
        },
        "id": "fPqrTn94D1a7",
        "outputId": "bad3fcea-5a2b-4146-a473-e332e5a6f278"
      },
      "execution_count": null,
      "outputs": [
        {
          "output_type": "execute_result",
          "data": {
            "text/plain": [
              "(484, 512, 512)"
            ]
          },
          "metadata": {},
          "execution_count": 60
        }
      ]
    },
    {
      "cell_type": "code",
      "source": [
        "pred_file = nib.load(\"/content/drive/MyDrive/nnUNetFrame/dataset/nnUNet_raw/nnUNet_raw_data/Dataset220_KiTS2023/predictions/case_00560.nii.gz\").get_fdata()"
      ],
      "metadata": {
        "id": "Yk8gDKCAD9QP"
      },
      "execution_count": null,
      "outputs": []
    },
    {
      "cell_type": "code",
      "source": [
        "pred_file.shape"
      ],
      "metadata": {
        "colab": {
          "base_uri": "https://localhost:8080/"
        },
        "id": "rWxrRO2qEK6O",
        "outputId": "5ca8627f-4ec7-4411-b9e9-9faf3ba2b247"
      },
      "execution_count": null,
      "outputs": [
        {
          "output_type": "execute_result",
          "data": {
            "text/plain": [
              "(484, 512, 512)"
            ]
          },
          "metadata": {},
          "execution_count": 59
        }
      ]
    },
    {
      "cell_type": "code",
      "source": [
        "np.unique(pred_file)"
      ],
      "metadata": {
        "colab": {
          "base_uri": "https://localhost:8080/"
        },
        "id": "8_2UeIUTEa_A",
        "outputId": "48f5c53b-f355-4216-fafe-cc750a4a2b76"
      },
      "execution_count": null,
      "outputs": [
        {
          "output_type": "execute_result",
          "data": {
            "text/plain": [
              "array([0., 1., 2., 3.])"
            ]
          },
          "metadata": {},
          "execution_count": 61
        }
      ]
    },
    {
      "cell_type": "code",
      "source": [
        "n_slice = 65\n",
        "plt.figure(figsize=(12, 8))\n",
        "plt.subplot(231)\n",
        "plt.title('Testing Image')\n",
        "plt.imshow(seg_file[n_slice,:,:], cmap='gray')\n",
        "plt.subplot(232)\n",
        "plt.title('Prediction on Test Image')\n",
        "plt.imshow(pred_file[n_slice,:,:], cmap= \"jet\")\n",
        "plt.show()"
      ],
      "metadata": {
        "colab": {
          "base_uri": "https://localhost:8080/",
          "height": 356
        },
        "id": "CR4pdz1vF37w",
        "outputId": "3e55b78f-38bd-4d47-835c-e9e05aa7940e"
      },
      "execution_count": null,
      "outputs": [
        {
          "output_type": "display_data",
          "data": {
            "text/plain": [
              "<Figure size 1200x800 with 2 Axes>"
            ],
            "image/png": "[encoded data removed]"
          },
          "metadata": {}
        }
      ]
    },
    {
      "cell_type": "markdown",
      "source": [
        "# NEXT STEPS!\n",
        "\n",
        "Congratulations on making it thus far!!\n",
        "\n",
        "From here, you can take the predictions located in your 'output_folder' (.nii.gz files) and load them into MANGO (Multi-image Analysis GUI - https://mangoviewer.com/) which will allow you to overlap it with the original CT scan. Further, you will be able to use the full 3D arena to pan, rotate and slice your segmentations.\n",
        "\n",
        "We had hopes to create a full solution which will automate the transfer of predictions to a graphical user interface. However, due to time constraints this was abandoned.\n",
        "\n",
        "---\n",
        "\n",
        "You're probably thinking: \"damn, that's pretty easy, what did these kids do for 7 weeks?\"\n",
        "\n",
        "We cried... that's what we did... we cried together in the corner of the cyber security room in building 14...\n",
        "\n",
        "We unforunately had to use this framework as a backup after our attempt to build a neural network from scratch had hit some major hurdles. You can see how far we got by using this link: https://github.com/Zekiye-Y/capstone-project/blob/main/Official_Capstone_Notebook.ipynb.\n",
        "\n",
        "We thank you again and hope you appreciate our effort in making this task a reality!\n",
        "\n"
      ],
      "metadata": {
        "id": "kqbE31Lmquv3"
      }
    },
    {
      "cell_type": "markdown",
      "source": [
        "# Recommended Improvements\n",
        "\n",
        "We recommend the following to improve the output of the model:\n",
        "- Increase training size (currently at 150)\n",
        "- Train the model with multiple folds (currently 1, fold_0)\n",
        "  - You can use an ensemble of neural networks to make a prediction\n",
        "- Create an automated pipeline which will take the predictions and display it in a graphical user interface"
      ],
      "metadata": {
        "id": "HCwwRfXTHV9Y"
      }
    }
  ]
}